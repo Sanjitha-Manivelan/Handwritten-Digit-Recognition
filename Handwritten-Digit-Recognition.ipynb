{
 "cells": [
  {
   "cell_type": "code",
   "execution_count": 6,
   "metadata": {},
   "outputs": [
    {
     "name": "stdout",
     "output_type": "stream",
     "text": [
      "Epoch 1/10\n",
      "300/300 [==============================] - 23s 73ms/step - loss: 0.4946 - accuracy: 0.8578 - val_loss: 0.0697 - val_accuracy: 0.9783\n",
      "Epoch 2/10\n",
      "300/300 [==============================] - 21s 69ms/step - loss: 0.0759 - accuracy: 0.9780 - val_loss: 0.0502 - val_accuracy: 0.9843\n",
      "Epoch 3/10\n",
      "300/300 [==============================] - 21s 70ms/step - loss: 0.0540 - accuracy: 0.9834 - val_loss: 0.0485 - val_accuracy: 0.9851\n",
      "Epoch 4/10\n",
      "300/300 [==============================] - 20s 68ms/step - loss: 0.0400 - accuracy: 0.9869 - val_loss: 0.0358 - val_accuracy: 0.9883\n",
      "Epoch 5/10\n",
      "300/300 [==============================] - 22s 73ms/step - loss: 0.0322 - accuracy: 0.9898 - val_loss: 0.0434 - val_accuracy: 0.9858\n",
      "Epoch 6/10\n",
      "300/300 [==============================] - 22s 72ms/step - loss: 0.0279 - accuracy: 0.9914 - val_loss: 0.0351 - val_accuracy: 0.9874\n",
      "Epoch 7/10\n",
      "300/300 [==============================] - 22s 73ms/step - loss: 0.0237 - accuracy: 0.9917 - val_loss: 0.0349 - val_accuracy: 0.9878\n",
      "Epoch 8/10\n",
      "300/300 [==============================] - 21s 71ms/step - loss: 0.0200 - accuracy: 0.9932 - val_loss: 0.0364 - val_accuracy: 0.9879\n",
      "Epoch 9/10\n",
      "300/300 [==============================] - 21s 69ms/step - loss: 0.0159 - accuracy: 0.9949 - val_loss: 0.0337 - val_accuracy: 0.9887\n",
      "Epoch 10/10\n",
      "300/300 [==============================] - 21s 69ms/step - loss: 0.0154 - accuracy: 0.9946 - val_loss: 0.0338 - val_accuracy: 0.9896\n",
      "CNN Error: 1.04%\n"
     ]
    }
   ],
   "source": [
    "from keras.datasets import mnist\n",
    "from keras.models import Sequential\n",
    "from keras.layers import Dense\n",
    "from keras.layers import Dropout\n",
    "from keras.layers import Flatten\n",
    "from keras.layers.convolutional import Conv2D\n",
    "from keras.layers.convolutional import MaxPooling2D\n",
    "from keras.utils import np_utils\n",
    "\n",
    "(X_train, y_train), (X_test, y_test) = mnist.load_data()\n",
    "\n",
    "X_train = X_train.reshape((X_train.shape[0], 28, 28, 1)).astype('float32')\n",
    "X_test = X_test.reshape((X_test.shape[0], 28, 28, 1)).astype('float32')\n",
    "\n",
    "X_train = X_train / 255\n",
    "X_test = X_test / 255\n",
    "\n",
    "y_train = np_utils.to_categorical(y_train)\n",
    "y_test = np_utils.to_categorical(y_test)\n",
    "num_classes = y_test.shape[1]\n",
    "\n",
    "def baseline_model():\n",
    "    model = Sequential()\n",
    "    model.add(Conv2D(32, (5, 5), input_shape=(28, 28, 1), activation='relu'))\n",
    "    model.add(MaxPooling2D())\n",
    "    model.add(Dropout(0.2))\n",
    "    model.add(Flatten())\n",
    "    model.add(Dense(128, activation='relu'))\n",
    "    model.add(Dense(num_classes, activation='softmax'))\n",
    "\n",
    "    model.compile(loss='categorical_crossentropy', optimizer='adam', metrics=['accuracy'])\n",
    "    return model\n",
    "\n",
    "model = baseline_model()\n",
    "\n",
    "model.fit(X_train, y_train, validation_data=(X_test, y_test), epochs=10, batch_size=200)\n",
    "\n",
    "scores = model.evaluate(X_test, y_test, verbose=0)\n",
    "print(\"CNN Error: %.2f%%\" % (100-scores[1]*100))"
   ]
  }
 ],
 "metadata": {
  "kernelspec": {
   "display_name": "Python 3",
   "language": "python",
   "name": "python3"
  },
  "language_info": {
   "codemirror_mode": {
    "name": "ipython",
    "version": 3
   },
   "file_extension": ".py",
   "mimetype": "text/x-python",
   "name": "python",
   "nbconvert_exporter": "python",
   "pygments_lexer": "ipython3",
   "version": "3.8.5"
  }
 },
 "nbformat": 4,
 "nbformat_minor": 4
}
